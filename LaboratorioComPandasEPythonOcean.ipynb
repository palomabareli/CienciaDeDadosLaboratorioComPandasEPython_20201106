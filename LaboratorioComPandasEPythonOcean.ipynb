{
  "nbformat": 4,
  "nbformat_minor": 0,
  "metadata": {
    "colab": {
      "name": "LaboratorioComPandasEPythonOcean.ipynb",
      "provenance": [],
      "authorship_tag": "ABX9TyNTXkMihxaoZtVY5Vt7rSwW",
      "include_colab_link": true
    },
    "kernelspec": {
      "name": "python3",
      "display_name": "Python 3"
    }
  },
  "cells": [
    {
      "cell_type": "markdown",
      "metadata": {
        "id": "view-in-github",
        "colab_type": "text"
      },
      "source": [
        "<a href=\"https://colab.research.google.com/github/palomabareli/CienciaDeDadosLaboratorioComPandasEPython_20201106/blob/main/LaboratorioComPandasEPythonOcean.ipynb\" target=\"_parent\"><img src=\"https://colab.research.google.com/assets/colab-badge.svg\" alt=\"Open In Colab\"/></a>"
      ]
    },
    {
      "cell_type": "markdown",
      "metadata": {
        "id": "OJGUyp65vIUu"
      },
      "source": [
        "**Lista**: nativa do Python e mutável."
      ]
    },
    {
      "cell_type": "code",
      "metadata": {
        "id": "vw2YZaZivJ7J",
        "outputId": "7e51ee73-f1a0-47d7-dec4-f192b01572c5",
        "colab": {
          "base_uri": "https://localhost:8080/"
        }
      },
      "source": [
        "#Lista vazia\n",
        "personList = list()\n",
        "\n",
        "print(personList)"
      ],
      "execution_count": null,
      "outputs": [
        {
          "output_type": "stream",
          "text": [
            "[]\n"
          ],
          "name": "stdout"
        }
      ]
    },
    {
      "cell_type": "code",
      "metadata": {
        "id": "A84M64xHA9dH"
      },
      "source": [
        "Adicionando elementos ao fim da lista."
      ],
      "execution_count": null,
      "outputs": []
    },
    {
      "cell_type": "code",
      "metadata": {
        "id": "ab5Bsodax02-",
        "outputId": "35b3ec7a-19df-46ca-c8d6-0084f5d942a6",
        "colab": {
          "base_uri": "https://localhost:8080/"
        }
      },
      "source": [
        "personList.append('Paloma')\n",
        "personList.append('Ribeiro')\n",
        "\n",
        "print(personList)"
      ],
      "execution_count": null,
      "outputs": [
        {
          "output_type": "stream",
          "text": [
            "['Paloma', 'Ribeiro']\n"
          ],
          "name": "stdout"
        }
      ]
    },
    {
      "cell_type": "code",
      "metadata": {
        "id": "R0Vq52JOx47_",
        "outputId": "86737b20-f0fa-4c7a-c00a-dfa87e9834d1",
        "colab": {
          "base_uri": "https://localhost:8080/"
        }
      },
      "source": [
        "personList.append('Bareli')\n",
        "\n",
        "print(personList)"
      ],
      "execution_count": null,
      "outputs": [
        {
          "output_type": "stream",
          "text": [
            "['Paloma', 'Ribeiro', 'Bareli']\n"
          ],
          "name": "stdout"
        }
      ]
    },
    {
      "cell_type": "markdown",
      "metadata": {
        "id": "piXXRtxjBDCy"
      },
      "source": [
        "Atualizando elementos da lista."
      ]
    },
    {
      "cell_type": "code",
      "metadata": {
        "id": "S3cfoBVVyRt0",
        "outputId": "eb89902c-0a9e-4fd0-e294-f90c69e1f767",
        "colab": {
          "base_uri": "https://localhost:8080/"
        }
      },
      "source": [
        "personList[1] = personList[2]\n",
        "personList[2] = 'Ribeiro'\n",
        "\n",
        "print(personList)"
      ],
      "execution_count": null,
      "outputs": [
        {
          "output_type": "stream",
          "text": [
            "['Paloma', 'Bareli', 'Ribeiro']\n"
          ],
          "name": "stdout"
        }
      ]
    },
    {
      "cell_type": "markdown",
      "metadata": {
        "id": "X3krtillBGZC"
      },
      "source": [
        "O método **insert()** permite inserir registros na lista na posição informada."
      ]
    },
    {
      "cell_type": "code",
      "metadata": {
        "id": "4A_Z3rAn14ix",
        "outputId": "530df74a-b052-416a-9aec-8ddf40a0987d",
        "colab": {
          "base_uri": "https://localhost:8080/"
        }
      },
      "source": [
        "personList.insert(0, 'Quem é')\n",
        "\n",
        "print(personList)\n",
        "\n",
        "personList.insert(0, 'Quem é')\n",
        "\n",
        "print(personList)"
      ],
      "execution_count": null,
      "outputs": [
        {
          "output_type": "stream",
          "text": [
            "['Quem é', 'Paloma', 'Bareli', 'Ribeiro']\n",
            "['Quem é', 'Quem é', 'Paloma', 'Bareli', 'Ribeiro']\n"
          ],
          "name": "stdout"
        }
      ]
    },
    {
      "cell_type": "markdown",
      "metadata": {
        "id": "hKgiJ6aSBO-d"
      },
      "source": [
        "Removendo elementos da lista, se baseando em seu conteúdo, com o método **remove()**."
      ]
    },
    {
      "cell_type": "code",
      "metadata": {
        "id": "98tB2Vv42OB7",
        "outputId": "668dfea3-dff5-49d7-a96a-40136dc3b41a",
        "colab": {
          "base_uri": "https://localhost:8080/"
        }
      },
      "source": [
        "personList.remove('Quem é')\n",
        "\n",
        "print(personList)"
      ],
      "execution_count": null,
      "outputs": [
        {
          "output_type": "stream",
          "text": [
            "['Quem é', 'Paloma', 'Bareli', 'Ribeiro']\n"
          ],
          "name": "stdout"
        }
      ]
    },
    {
      "cell_type": "markdown",
      "metadata": {
        "id": "MxxdpJCd1dtx"
      },
      "source": [
        "**Dicionários**: estrutura baseada em chave/valor. A chave é unica, mas os itens não."
      ]
    },
    {
      "cell_type": "markdown",
      "metadata": {
        "id": "4tILJYi6Bd-6"
      },
      "source": [
        "Definindo um dicionário vazio."
      ]
    },
    {
      "cell_type": "code",
      "metadata": {
        "id": "iYfxUmHD1ssh",
        "outputId": "933c477b-9dff-4da3-9ce2-1d998452599a",
        "colab": {
          "base_uri": "https://localhost:8080/"
        }
      },
      "source": [
        "numberDictionary = dict()\n",
        "\n",
        "print(numberDictionary)"
      ],
      "execution_count": null,
      "outputs": [
        {
          "output_type": "stream",
          "text": [
            "{}\n"
          ],
          "name": "stdout"
        }
      ]
    },
    {
      "cell_type": "markdown",
      "metadata": {
        "id": "MqXRReC-Bif6"
      },
      "source": [
        "Incluindo um novo elemento no dicionário."
      ]
    },
    {
      "cell_type": "code",
      "metadata": {
        "id": "6vluMrOl3Shx",
        "outputId": "a1a0ac56-8818-49e9-a3d9-1e1e3158ac22",
        "colab": {
          "base_uri": "https://localhost:8080/"
        }
      },
      "source": [
        "numberDictionary['key'] = 'value'\n",
        "\n",
        "print(numberDictionary)"
      ],
      "execution_count": null,
      "outputs": [
        {
          "output_type": "stream",
          "text": [
            "{'key': 'value'}\n"
          ],
          "name": "stdout"
        }
      ]
    },
    {
      "cell_type": "markdown",
      "metadata": {
        "id": "MCGB2xHJBn9C"
      },
      "source": [
        "O método **setdefault()** permite inserir um registro default no dicionário."
      ]
    },
    {
      "cell_type": "code",
      "metadata": {
        "id": "dydmFSSq59VD",
        "outputId": "b3c7ce8f-e1b3-4b79-a5c6-219d46ed865d",
        "colab": {
          "base_uri": "https://localhost:8080/"
        }
      },
      "source": [
        "numberDictionary.setdefault(2)\n",
        "\n",
        "print(numberDictionary)"
      ],
      "execution_count": null,
      "outputs": [
        {
          "output_type": "stream",
          "text": [
            "{'key': 'value', 2: None}\n"
          ],
          "name": "stdout"
        }
      ]
    },
    {
      "cell_type": "markdown",
      "metadata": {
        "id": "nh_orR4BKDuW"
      },
      "source": [
        ".describe() = campos categóricos"
      ]
    }
  ]
}